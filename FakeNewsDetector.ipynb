{
 "cells": [
  {
   "attachments": {},
   "cell_type": "markdown",
   "metadata": {},
   "source": [
    "# Fake News Detector NLP Project\n",
    "##### Project Overview\n",
    "##### This project aims to detect and classify news articles as \"Fake\" or \"Real\" using Natural Language Processing (NLP) techniques and machine learning models. The system leverages a Random Forest Classifier trained on a preprocessed dataset and provides predictions via an flask application.\n",
    "\n",
    "#### Key Features\n",
    "##### - Preprocessing raw text data by cleaning, tokenizing, and removing stopwords.\n",
    "##### - Vectorizing the text using TF-IDF to convert it into numerical features.\n",
    "##### - Training a Random Forest Classifier for accurate classification.\n",
    "##### - Hosting predictions through a Flask-based API for user interaction.\n",
    "\n",
    "#### This project addresses the growing challenge of misinformation by providing a reliable tool for detecting fake news.\n"
   ]
  },
  {
   "cell_type": "code",
   "execution_count": 4,
   "metadata": {},
   "outputs": [
    {
     "name": "stdout",
     "output_type": "stream",
     "text": [
      "                                               title  \\\n",
      "0  Former Lebanese PM says Hariri will return to ...   \n",
      "1    Hillary Supporters Explained In 6 BRUTAL Photos   \n",
      "2  Eight bodies found in boat washed up on Japan ...   \n",
      "3   The Gun Shop Owner That Banned Muslims Is Now...   \n",
      "4  House Speaker Ryan to speak with Trump Wednesd...   \n",
      "\n",
      "                                                text       subject  \\\n",
      "0  BEIRUT (Reuters) - Former Lebanese prime minis...     worldnews   \n",
      "1  Hysterical With all the evidence available to ...      politics   \n",
      "2  TOKYO (Reuters) - Eight bodies, which had been...     worldnews   \n",
      "3  One of Florida s most infamous gun shop owners...          News   \n",
      "4  WASHINGTON (Reuters) - U.S. House Speaker Paul...  politicsNews   \n",
      "\n",
      "                 date  label  \n",
      "0   November 7, 2017       1  \n",
      "1         Mar 3, 2016      0  \n",
      "2  November 27, 2017       1  \n",
      "3        May 31, 2016      0  \n",
      "4       May 25, 2016       1  \n"
     ]
    }
   ],
   "source": [
    "import pandas as pd\n",
    "\n",
    "# Load the dataset\n",
    "fake_news = pd.read_csv(\"./dataset/Fake.csv\")  # Path to the Fake News CSV\n",
    "real_news = pd.read_csv(\"./dataset/True.csv\")  # Path to the Real News CSV\n",
    "\n",
    "# Add labels: 0 for Fake News, 1 for Real News\n",
    "fake_news['label'] = 0\n",
    "real_news['label'] = 1\n",
    "\n",
    "# Combine the datasets\n",
    "data = pd.concat([fake_news, real_news], axis=0).reset_index(drop=True)\n",
    "\n",
    "# Shuffle the dataset for better mixing\n",
    "data = data.sample(frac=1).reset_index(drop=True)\n",
    "\n",
    "# Check the data structure\n",
    "print(data.head())\n"
   ]
  },
  {
   "cell_type": "code",
   "execution_count": 43,
   "metadata": {},
   "outputs": [
    {
     "name": "stderr",
     "output_type": "stream",
     "text": [
      "[nltk_data] Downloading package stopwords to\n",
      "[nltk_data]     C:\\Users\\DELL\\AppData\\Roaming\\nltk_data...\n",
      "[nltk_data]   Package stopwords is already up-to-date!\n"
     ]
    },
    {
     "name": "stdout",
     "output_type": "stream",
     "text": [
      "                                                text  \\\n",
      "0  MADRID (Reuters) - Catalan secessionist partie...   \n",
      "1  NAIROBI (Reuters) - Kenya s opposition leader ...   \n",
      "2  The Daily Show, be it under the hosting of Jon...   \n",
      "3  LONDON (Reuters) - U.S. Secretary of State Rex...   \n",
      "4  ANKARA/LONDON/WASHINGTON (Reuters) - Iran has ...   \n",
      "\n",
      "                                        cleaned_text  \n",
      "0  madrid reuters catalan secessionist parties tu...  \n",
      "1  nairobi reuters kenya opposition leader raila ...  \n",
      "2  daily show hosting jon stewart trevor noah nev...  \n",
      "3  london reuters u secretary state rex tillerson...  \n",
      "4  ankara london washington reuters iran suggeste...  \n"
     ]
    }
   ],
   "source": [
    "import nltk\n",
    "from nltk.corpus import stopwords\n",
    "import re\n",
    "\n",
    "# Download NLTK stopwords\n",
    "nltk.download('stopwords')\n",
    "stop_words = set(stopwords.words('english'))\n",
    "\n",
    "# Text preprocessing function\n",
    "def preprocess_text(text):\n",
    "    # Remove special characters, numbers, and extra spaces\n",
    "    text = re.sub(r'[^a-zA-Z]', ' ', text)\n",
    "    # Convert to lowercase\n",
    "    text = text.lower()\n",
    "    # Tokenize and remove stopwords\n",
    "    text = ' '.join([word for word in text.split() if word not in stop_words])\n",
    "    return text\n",
    "\n",
    "# Apply preprocessing to the dataset\n",
    "data['cleaned_text'] = data['text'].apply(preprocess_text)\n",
    "\n",
    "# Check the cleaned data\n",
    "print(data[['text', 'cleaned_text']].head())\n"
   ]
  },
  {
   "cell_type": "code",
   "execution_count": 45,
   "metadata": {},
   "outputs": [
    {
     "name": "stdout",
     "output_type": "stream",
     "text": [
      "Shape of feature matrix: (44898, 2000)\n"
     ]
    }
   ],
   "source": [
    "from sklearn.feature_extraction.text import TfidfVectorizer\n",
    "\n",
    "# Initialize TF-IDF Vectorizer\n",
    "vectorizer = TfidfVectorizer(max_features=2000)  # Limit to top 2000 features\n",
    "\n",
    "# Transform the cleaned text into feature vectors\n",
    "X = vectorizer.fit_transform(data['cleaned_text']).toarray()\n",
    "y = data['label']\n",
    "\n",
    "print(\"Shape of feature matrix:\", X.shape)\n"
   ]
  },
  {
   "cell_type": "code",
   "execution_count": 46,
   "metadata": {},
   "outputs": [
    {
     "name": "stdout",
     "output_type": "stream",
     "text": [
      "Label distribution: Counter({0: 23481, 1: 21417})\n"
     ]
    }
   ],
   "source": [
    "from collections import Counter\n",
    "print(\"Label distribution:\", Counter(y))"
   ]
  },
  {
   "cell_type": "code",
   "execution_count": 47,
   "metadata": {},
   "outputs": [
    {
     "name": "stderr",
     "output_type": "stream",
     "text": [
      "C:\\Users\\DELL\\AppData\\Roaming\\Python\\Python312\\site-packages\\sklearn\\utils\\deprecation.py:151: FutureWarning: 'force_all_finite' was renamed to 'ensure_all_finite' in 1.6 and will be removed in 1.8.\n",
      "  warnings.warn(\n",
      "C:\\Users\\DELL\\AppData\\Roaming\\Python\\Python312\\site-packages\\sklearn\\base.py:484: FutureWarning: `BaseEstimator._check_n_features` is deprecated in 1.6 and will be removed in 1.7. Use `sklearn.utils.validation._check_n_features` instead.\n",
      "  warnings.warn(\n",
      "C:\\Users\\DELL\\AppData\\Roaming\\Python\\Python312\\site-packages\\sklearn\\base.py:493: FutureWarning: `BaseEstimator._check_feature_names` is deprecated in 1.6 and will be removed in 1.7. Use `sklearn.utils.validation._check_feature_names` instead.\n",
      "  warnings.warn(\n"
     ]
    },
    {
     "name": "stdout",
     "output_type": "stream",
     "text": [
      "Balanced label distribution: Counter({1: 23481, 0: 23481})\n"
     ]
    }
   ],
   "source": [
    "from imblearn.over_sampling import RandomOverSampler\n",
    "from collections import Counter\n",
    "\n",
    "# Balance the dataset using oversampling\n",
    "ros = RandomOverSampler(random_state=42)\n",
    "X_balanced, y_balanced = ros.fit_resample(X, y)\n",
    "\n",
    "# Check the new distribution\n",
    "print(\"Balanced label distribution:\", Counter(y_balanced))\n"
   ]
  },
  {
   "cell_type": "code",
   "execution_count": 48,
   "metadata": {},
   "outputs": [
    {
     "name": "stdout",
     "output_type": "stream",
     "text": [
      "Training data size: (37569, 2000)\n",
      "Testing data size: (9393, 2000)\n"
     ]
    }
   ],
   "source": [
    "from sklearn.model_selection import train_test_split\n",
    "\n",
    "# Split the balanced data into training and testing sets\n",
    "X_train, X_test, y_train, y_test = train_test_split(X_balanced, y_balanced, test_size=0.2, random_state=42)\n",
    "\n",
    "print(\"Training data size:\", X_train.shape)\n",
    "print(\"Testing data size:\", X_test.shape)\n"
   ]
  },
  {
   "cell_type": "code",
   "execution_count": 49,
   "metadata": {},
   "outputs": [
    {
     "name": "stdout",
     "output_type": "stream",
     "text": [
      "Random Forest Classification Report:\n",
      "               precision    recall  f1-score   support\n",
      "\n",
      "           0       1.00      1.00      1.00      4626\n",
      "           1       1.00      1.00      1.00      4767\n",
      "\n",
      "    accuracy                           1.00      9393\n",
      "   macro avg       1.00      1.00      1.00      9393\n",
      "weighted avg       1.00      1.00      1.00      9393\n",
      "\n"
     ]
    }
   ],
   "source": [
    "from sklearn.ensemble import RandomForestClassifier\n",
    "from sklearn.metrics import accuracy_score, classification_report\n",
    "\n",
    "model_rf = RandomForestClassifier(class_weight='balanced', random_state=42)\n",
    "model_rf.fit(X_train, y_train)\n",
    "\n",
    "# Predictions\n",
    "y_pred_rf = model_rf.predict(X_test)\n",
    "\n",
    "# Evaluate\n",
    "print(\"Random Forest Classification Report:\\n\", classification_report(y_test, y_pred_rf))\n"
   ]
  },
  {
   "cell_type": "code",
   "execution_count": 50,
   "metadata": {},
   "outputs": [
    {
     "data": {
      "text/plain": [
       "['tfidf_vectorizer.pkl']"
      ]
     },
     "execution_count": 50,
     "metadata": {},
     "output_type": "execute_result"
    }
   ],
   "source": [
    "import joblib\n",
    "\n",
    "# Save the trained model\n",
    "joblib.dump(model_rf, 'fake_news_detector_rf_model.pkl')\n",
    "\n",
    "# Save the vectorizer\n",
    "joblib.dump(vectorizer, 'tfidf_vectorizer.pkl')\n",
    "\n"
   ]
  },
  {
   "cell_type": "code",
   "execution_count": 51,
   "metadata": {},
   "outputs": [],
   "source": [
    "#from sklearn.model_selection import cross_val_score\n",
    "\n",
    "#cv_scores = cross_val_score(model, X_train, y_train, cv=5, scoring='accuracy')\n",
    "#print(\"Cross-Validation Scores:\", cv_scores)\n",
    "#print(\"Average CV Score:\", cv_scores.mean())\n"
   ]
  },
  {
   "cell_type": "code",
   "execution_count": 52,
   "metadata": {},
   "outputs": [],
   "source": [
    "#import pickle\n",
    "\n",
    "# Save the model\n",
    "#with open('model.pkl', 'wb') as model_file:\n",
    " #   pickle.dump(model, model_file)\n",
    "\n",
    "# Save the vectorizer\n",
    "#with open('vectorizer.pkl', 'wb') as vectorizer_file:\n",
    " #   pickle.dump(vectorizer, vectorizer_file)\n"
   ]
  },
  {
   "cell_type": "code",
   "execution_count": 3,
   "metadata": {},
   "outputs": [
    {
     "name": "stdout",
     "output_type": "stream",
     "text": [
      " * Serving Flask app '__main__'\n",
      " * Debug mode: off\n"
     ]
    },
    {
     "name": "stderr",
     "output_type": "stream",
     "text": [
      "[nltk_data] Downloading package stopwords to\n",
      "[nltk_data]     C:\\Users\\DELL\\AppData\\Roaming\\nltk_data...\n",
      "[nltk_data]   Package stopwords is already up-to-date!\n",
      "INFO:werkzeug:\u001b[31m\u001b[1mWARNING: This is a development server. Do not use it in a production deployment. Use a production WSGI server instead.\u001b[0m\n",
      " * Running on http://127.0.0.1:5000\n",
      "INFO:werkzeug:\u001b[33mPress CTRL+C to quit\u001b[0m\n",
      "INFO:werkzeug:127.0.0.1 - - [22/Dec/2024 16:36:51] \"GET / HTTP/1.1\" 200 -\n",
      "INFO:werkzeug:127.0.0.1 - - [22/Dec/2024 16:36:51] \"\u001b[36mGET /static/style.css HTTP/1.1\u001b[0m\" 304 -\n",
      "INFO:werkzeug:127.0.0.1 - - [22/Dec/2024 16:36:51] \"\u001b[36mGET /static/script.js HTTP/1.1\u001b[0m\" 304 -\n",
      "INFO:werkzeug:127.0.0.1 - - [22/Dec/2024 16:36:51] \"\u001b[33mGET /get_accuracy HTTP/1.1\u001b[0m\" 404 -\n",
      "INFO:werkzeug:127.0.0.1 - - [22/Dec/2024 16:36:52] \"GET / HTTP/1.1\" 200 -\n",
      "INFO:werkzeug:127.0.0.1 - - [22/Dec/2024 16:36:52] \"\u001b[36mGET /static/style.css HTTP/1.1\u001b[0m\" 304 -\n",
      "INFO:werkzeug:127.0.0.1 - - [22/Dec/2024 16:36:52] \"\u001b[36mGET /static/script.js HTTP/1.1\u001b[0m\" 304 -\n",
      "INFO:werkzeug:127.0.0.1 - - [22/Dec/2024 16:36:52] \"\u001b[33mGET /get_accuracy HTTP/1.1\u001b[0m\" 404 -\n",
      "INFO:werkzeug:127.0.0.1 - - [22/Dec/2024 16:36:53] \"GET / HTTP/1.1\" 200 -\n",
      "INFO:werkzeug:127.0.0.1 - - [22/Dec/2024 16:36:53] \"\u001b[36mGET /static/style.css HTTP/1.1\u001b[0m\" 304 -\n",
      "INFO:werkzeug:127.0.0.1 - - [22/Dec/2024 16:36:53] \"\u001b[36mGET /static/script.js HTTP/1.1\u001b[0m\" 304 -\n",
      "INFO:werkzeug:127.0.0.1 - - [22/Dec/2024 16:36:53] \"\u001b[33mGET /get_accuracy HTTP/1.1\u001b[0m\" 404 -\n",
      "INFO:werkzeug:127.0.0.1 - - [22/Dec/2024 16:36:53] \"GET / HTTP/1.1\" 200 -\n",
      "INFO:werkzeug:127.0.0.1 - - [22/Dec/2024 16:36:53] \"\u001b[36mGET /static/style.css HTTP/1.1\u001b[0m\" 304 -\n",
      "INFO:werkzeug:127.0.0.1 - - [22/Dec/2024 16:36:53] \"\u001b[36mGET /static/script.js HTTP/1.1\u001b[0m\" 304 -\n",
      "INFO:werkzeug:127.0.0.1 - - [22/Dec/2024 16:36:53] \"\u001b[33mGET /get_accuracy HTTP/1.1\u001b[0m\" 404 -\n",
      "INFO:werkzeug:127.0.0.1 - - [22/Dec/2024 16:36:53] \"GET / HTTP/1.1\" 200 -\n",
      "INFO:werkzeug:127.0.0.1 - - [22/Dec/2024 16:36:53] \"\u001b[36mGET /static/style.css HTTP/1.1\u001b[0m\" 304 -\n",
      "INFO:werkzeug:127.0.0.1 - - [22/Dec/2024 16:36:53] \"\u001b[36mGET /static/script.js HTTP/1.1\u001b[0m\" 304 -\n",
      "INFO:werkzeug:127.0.0.1 - - [22/Dec/2024 16:36:53] \"\u001b[33mGET /get_accuracy HTTP/1.1\u001b[0m\" 404 -\n",
      "INFO:werkzeug:127.0.0.1 - - [22/Dec/2024 16:36:53] \"GET / HTTP/1.1\" 200 -\n",
      "INFO:werkzeug:127.0.0.1 - - [22/Dec/2024 16:36:53] \"\u001b[36mGET /static/style.css HTTP/1.1\u001b[0m\" 304 -\n",
      "INFO:werkzeug:127.0.0.1 - - [22/Dec/2024 16:36:53] \"\u001b[36mGET /static/script.js HTTP/1.1\u001b[0m\" 304 -\n",
      "INFO:werkzeug:127.0.0.1 - - [22/Dec/2024 16:36:53] \"\u001b[33mGET /get_accuracy HTTP/1.1\u001b[0m\" 404 -\n",
      "INFO:werkzeug:127.0.0.1 - - [22/Dec/2024 16:36:53] \"GET / HTTP/1.1\" 200 -\n",
      "INFO:werkzeug:127.0.0.1 - - [22/Dec/2024 16:36:53] \"\u001b[36mGET /static/style.css HTTP/1.1\u001b[0m\" 304 -\n",
      "INFO:werkzeug:127.0.0.1 - - [22/Dec/2024 16:36:53] \"\u001b[36mGET /static/script.js HTTP/1.1\u001b[0m\" 304 -\n",
      "INFO:werkzeug:127.0.0.1 - - [22/Dec/2024 16:36:53] \"\u001b[33mGET /get_accuracy HTTP/1.1\u001b[0m\" 404 -\n",
      "INFO:werkzeug:127.0.0.1 - - [22/Dec/2024 16:36:54] \"GET / HTTP/1.1\" 200 -\n",
      "INFO:werkzeug:127.0.0.1 - - [22/Dec/2024 16:36:54] \"\u001b[36mGET /static/script.js HTTP/1.1\u001b[0m\" 304 -\n",
      "INFO:werkzeug:127.0.0.1 - - [22/Dec/2024 16:36:54] \"\u001b[36mGET /static/style.css HTTP/1.1\u001b[0m\" 304 -\n",
      "INFO:werkzeug:127.0.0.1 - - [22/Dec/2024 16:36:54] \"\u001b[33mGET /get_accuracy HTTP/1.1\u001b[0m\" 404 -\n",
      "INFO:werkzeug:127.0.0.1 - - [22/Dec/2024 16:36:54] \"GET / HTTP/1.1\" 200 -\n",
      "INFO:werkzeug:127.0.0.1 - - [22/Dec/2024 16:36:54] \"\u001b[36mGET /static/style.css HTTP/1.1\u001b[0m\" 304 -\n",
      "INFO:werkzeug:127.0.0.1 - - [22/Dec/2024 16:36:54] \"\u001b[36mGET /static/script.js HTTP/1.1\u001b[0m\" 304 -\n",
      "INFO:werkzeug:127.0.0.1 - - [22/Dec/2024 16:36:54] \"\u001b[33mGET /get_accuracy HTTP/1.1\u001b[0m\" 404 -\n",
      "INFO:werkzeug:127.0.0.1 - - [22/Dec/2024 16:36:55] \"GET / HTTP/1.1\" 200 -\n",
      "INFO:werkzeug:127.0.0.1 - - [22/Dec/2024 16:36:55] \"\u001b[36mGET /static/style.css HTTP/1.1\u001b[0m\" 304 -\n",
      "INFO:werkzeug:127.0.0.1 - - [22/Dec/2024 16:36:55] \"\u001b[36mGET /static/script.js HTTP/1.1\u001b[0m\" 304 -\n",
      "INFO:werkzeug:127.0.0.1 - - [22/Dec/2024 16:36:55] \"\u001b[33mGET /get_accuracy HTTP/1.1\u001b[0m\" 404 -\n",
      "INFO:werkzeug:127.0.0.1 - - [22/Dec/2024 16:36:55] \"GET / HTTP/1.1\" 200 -\n",
      "INFO:werkzeug:127.0.0.1 - - [22/Dec/2024 16:36:55] \"\u001b[36mGET /static/style.css HTTP/1.1\u001b[0m\" 304 -\n",
      "INFO:werkzeug:127.0.0.1 - - [22/Dec/2024 16:36:55] \"\u001b[36mGET /static/script.js HTTP/1.1\u001b[0m\" 304 -\n",
      "INFO:werkzeug:127.0.0.1 - - [22/Dec/2024 16:36:55] \"\u001b[33mGET /get_accuracy HTTP/1.1\u001b[0m\" 404 -\n",
      "INFO:werkzeug:127.0.0.1 - - [22/Dec/2024 16:36:55] \"GET / HTTP/1.1\" 200 -\n",
      "INFO:werkzeug:127.0.0.1 - - [22/Dec/2024 16:36:55] \"\u001b[36mGET /static/style.css HTTP/1.1\u001b[0m\" 304 -\n",
      "INFO:werkzeug:127.0.0.1 - - [22/Dec/2024 16:36:55] \"\u001b[36mGET /static/script.js HTTP/1.1\u001b[0m\" 304 -\n",
      "INFO:werkzeug:127.0.0.1 - - [22/Dec/2024 16:36:55] \"\u001b[33mGET /get_accuracy HTTP/1.1\u001b[0m\" 404 -\n",
      "INFO:werkzeug:127.0.0.1 - - [22/Dec/2024 16:36:55] \"GET / HTTP/1.1\" 200 -\n",
      "INFO:werkzeug:127.0.0.1 - - [22/Dec/2024 16:36:55] \"\u001b[36mGET /static/style.css HTTP/1.1\u001b[0m\" 304 -\n",
      "INFO:werkzeug:127.0.0.1 - - [22/Dec/2024 16:36:55] \"\u001b[36mGET /static/script.js HTTP/1.1\u001b[0m\" 304 -\n",
      "INFO:werkzeug:127.0.0.1 - - [22/Dec/2024 16:36:55] \"\u001b[33mGET /get_accuracy HTTP/1.1\u001b[0m\" 404 -\n",
      "INFO:werkzeug:127.0.0.1 - - [22/Dec/2024 16:36:55] \"GET / HTTP/1.1\" 200 -\n",
      "INFO:werkzeug:127.0.0.1 - - [22/Dec/2024 16:36:55] \"\u001b[36mGET /static/style.css HTTP/1.1\u001b[0m\" 304 -\n",
      "INFO:werkzeug:127.0.0.1 - - [22/Dec/2024 16:36:55] \"\u001b[36mGET /static/script.js HTTP/1.1\u001b[0m\" 304 -\n",
      "INFO:werkzeug:127.0.0.1 - - [22/Dec/2024 16:36:55] \"\u001b[33mGET /get_accuracy HTTP/1.1\u001b[0m\" 404 -\n",
      "INFO:werkzeug:127.0.0.1 - - [22/Dec/2024 16:36:55] \"GET / HTTP/1.1\" 200 -\n",
      "INFO:werkzeug:127.0.0.1 - - [22/Dec/2024 16:36:55] \"\u001b[36mGET /static/style.css HTTP/1.1\u001b[0m\" 304 -\n",
      "INFO:werkzeug:127.0.0.1 - - [22/Dec/2024 16:36:55] \"\u001b[36mGET /static/script.js HTTP/1.1\u001b[0m\" 304 -\n",
      "INFO:werkzeug:127.0.0.1 - - [22/Dec/2024 16:36:55] \"\u001b[33mGET /get_accuracy HTTP/1.1\u001b[0m\" 404 -\n",
      "INFO:werkzeug:127.0.0.1 - - [22/Dec/2024 16:36:55] \"GET / HTTP/1.1\" 200 -\n",
      "INFO:werkzeug:127.0.0.1 - - [22/Dec/2024 16:36:55] \"\u001b[36mGET /static/style.css HTTP/1.1\u001b[0m\" 304 -\n",
      "INFO:werkzeug:127.0.0.1 - - [22/Dec/2024 16:36:55] \"\u001b[36mGET /static/script.js HTTP/1.1\u001b[0m\" 304 -\n",
      "INFO:werkzeug:127.0.0.1 - - [22/Dec/2024 16:36:56] \"\u001b[33mGET /get_accuracy HTTP/1.1\u001b[0m\" 404 -\n",
      "INFO:werkzeug:127.0.0.1 - - [22/Dec/2024 16:36:56] \"GET / HTTP/1.1\" 200 -\n",
      "INFO:werkzeug:127.0.0.1 - - [22/Dec/2024 16:36:56] \"\u001b[36mGET /static/style.css HTTP/1.1\u001b[0m\" 304 -\n",
      "INFO:werkzeug:127.0.0.1 - - [22/Dec/2024 16:36:56] \"\u001b[36mGET /static/script.js HTTP/1.1\u001b[0m\" 304 -\n",
      "INFO:werkzeug:127.0.0.1 - - [22/Dec/2024 16:36:56] \"\u001b[33mGET /get_accuracy HTTP/1.1\u001b[0m\" 404 -\n",
      "INFO:werkzeug:127.0.0.1 - - [22/Dec/2024 16:36:56] \"GET / HTTP/1.1\" 200 -\n",
      "INFO:werkzeug:127.0.0.1 - - [22/Dec/2024 16:36:56] \"\u001b[36mGET /static/style.css HTTP/1.1\u001b[0m\" 304 -\n",
      "INFO:werkzeug:127.0.0.1 - - [22/Dec/2024 16:36:56] \"\u001b[36mGET /static/script.js HTTP/1.1\u001b[0m\" 304 -\n",
      "INFO:werkzeug:127.0.0.1 - - [22/Dec/2024 16:36:56] \"\u001b[33mGET /get_accuracy HTTP/1.1\u001b[0m\" 404 -\n",
      "INFO:werkzeug:127.0.0.1 - - [22/Dec/2024 16:36:56] \"GET / HTTP/1.1\" 200 -\n",
      "INFO:werkzeug:127.0.0.1 - - [22/Dec/2024 16:36:56] \"\u001b[36mGET /static/style.css HTTP/1.1\u001b[0m\" 304 -\n",
      "INFO:werkzeug:127.0.0.1 - - [22/Dec/2024 16:36:56] \"\u001b[36mGET /static/script.js HTTP/1.1\u001b[0m\" 304 -\n",
      "INFO:werkzeug:127.0.0.1 - - [22/Dec/2024 16:36:56] \"\u001b[33mGET /get_accuracy HTTP/1.1\u001b[0m\" 404 -\n",
      "INFO:werkzeug:127.0.0.1 - - [22/Dec/2024 16:36:56] \"GET / HTTP/1.1\" 200 -\n",
      "INFO:werkzeug:127.0.0.1 - - [22/Dec/2024 16:36:56] \"\u001b[36mGET /static/style.css HTTP/1.1\u001b[0m\" 304 -\n",
      "INFO:werkzeug:127.0.0.1 - - [22/Dec/2024 16:36:56] \"\u001b[36mGET /static/script.js HTTP/1.1\u001b[0m\" 304 -\n",
      "INFO:werkzeug:127.0.0.1 - - [22/Dec/2024 16:36:56] \"\u001b[33mGET /get_accuracy HTTP/1.1\u001b[0m\" 404 -\n",
      "INFO:werkzeug:127.0.0.1 - - [22/Dec/2024 16:36:56] \"GET / HTTP/1.1\" 200 -\n",
      "INFO:werkzeug:127.0.0.1 - - [22/Dec/2024 16:36:56] \"\u001b[36mGET /static/style.css HTTP/1.1\u001b[0m\" 304 -\n",
      "INFO:werkzeug:127.0.0.1 - - [22/Dec/2024 16:36:56] \"\u001b[36mGET /static/script.js HTTP/1.1\u001b[0m\" 304 -\n",
      "INFO:werkzeug:127.0.0.1 - - [22/Dec/2024 16:36:56] \"\u001b[33mGET /get_accuracy HTTP/1.1\u001b[0m\" 404 -\n",
      "INFO:werkzeug:127.0.0.1 - - [22/Dec/2024 16:36:56] \"GET / HTTP/1.1\" 200 -\n",
      "INFO:werkzeug:127.0.0.1 - - [22/Dec/2024 16:36:56] \"\u001b[36mGET /static/style.css HTTP/1.1\u001b[0m\" 304 -\n",
      "INFO:werkzeug:127.0.0.1 - - [22/Dec/2024 16:36:56] \"\u001b[36mGET /static/script.js HTTP/1.1\u001b[0m\" 304 -\n",
      "INFO:werkzeug:127.0.0.1 - - [22/Dec/2024 16:36:56] \"\u001b[33mGET /get_accuracy HTTP/1.1\u001b[0m\" 404 -\n",
      "INFO:werkzeug:127.0.0.1 - - [22/Dec/2024 16:36:56] \"GET / HTTP/1.1\" 200 -\n",
      "INFO:werkzeug:127.0.0.1 - - [22/Dec/2024 16:36:56] \"\u001b[36mGET /static/style.css HTTP/1.1\u001b[0m\" 304 -\n",
      "INFO:werkzeug:127.0.0.1 - - [22/Dec/2024 16:36:56] \"\u001b[36mGET /static/script.js HTTP/1.1\u001b[0m\" 304 -\n",
      "INFO:werkzeug:127.0.0.1 - - [22/Dec/2024 16:36:57] \"\u001b[33mGET /get_accuracy HTTP/1.1\u001b[0m\" 404 -\n",
      "INFO:werkzeug:127.0.0.1 - - [22/Dec/2024 16:36:57] \"GET / HTTP/1.1\" 200 -\n",
      "INFO:werkzeug:127.0.0.1 - - [22/Dec/2024 16:36:57] \"\u001b[36mGET /static/style.css HTTP/1.1\u001b[0m\" 304 -\n",
      "INFO:werkzeug:127.0.0.1 - - [22/Dec/2024 16:36:57] \"\u001b[36mGET /static/script.js HTTP/1.1\u001b[0m\" 304 -\n",
      "INFO:werkzeug:127.0.0.1 - - [22/Dec/2024 16:36:57] \"\u001b[33mGET /get_accuracy HTTP/1.1\u001b[0m\" 404 -\n",
      "INFO:werkzeug:127.0.0.1 - - [22/Dec/2024 16:41:22] \"\u001b[36mGET /static/style.css HTTP/1.1\u001b[0m\" 304 -\n",
      "INFO:werkzeug:127.0.0.1 - - [22/Dec/2024 16:44:34] \"GET / HTTP/1.1\" 200 -\n",
      "INFO:werkzeug:127.0.0.1 - - [22/Dec/2024 16:44:34] \"GET /static/style.css HTTP/1.1\" 200 -\n",
      "INFO:werkzeug:127.0.0.1 - - [22/Dec/2024 16:44:34] \"GET /static/script.js HTTP/1.1\" 200 -\n",
      "INFO:werkzeug:127.0.0.1 - - [22/Dec/2024 16:44:42] \"POST /predict HTTP/1.1\" 200 -\n",
      "INFO:werkzeug:127.0.0.1 - - [22/Dec/2024 16:44:55] \"POST /predict HTTP/1.1\" 200 -\n",
      "INFO:werkzeug:127.0.0.1 - - [22/Dec/2024 16:45:01] \"POST /predict HTTP/1.1\" 200 -\n",
      "INFO:werkzeug:127.0.0.1 - - [22/Dec/2024 16:45:14] \"POST /predict HTTP/1.1\" 200 -\n",
      "INFO:werkzeug:127.0.0.1 - - [22/Dec/2024 16:45:28] \"POST /predict HTTP/1.1\" 200 -\n",
      "INFO:werkzeug:127.0.0.1 - - [22/Dec/2024 16:45:29] \"POST /predict HTTP/1.1\" 200 -\n",
      "INFO:werkzeug:127.0.0.1 - - [22/Dec/2024 16:45:36] \"POST /predict HTTP/1.1\" 200 -\n"
     ]
    }
   ],
   "source": [
    "from flask import Flask, request, jsonify, render_template\n",
    "import joblib\n",
    "import re\n",
    "from nltk.corpus import stopwords\n",
    "import nltk\n",
    "import logging\n",
    "#from flask_ngrok import run_with_ngrok  # If testing on Colab or external access\n",
    "\n",
    "# Initialize Flask app\n",
    "app = Flask(__name__)\n",
    "app.config['TEMPLATES_AUTO_RELOAD'] = True\n",
    "#run_with_ngrok(app)  # Only if using Google Colab/Ngrok for external access\n",
    "\n",
    "# Configure logging\n",
    "logging.basicConfig(level=logging.INFO)\n",
    "\n",
    "# Load model and vectorizer\n",
    "with open('fake_news_detector_rf_model.pkl', 'rb') as model_file:\n",
    "    model = joblib.load(model_file)\n",
    "\n",
    "with open('tfidf_vectorizer.pkl', 'rb') as vectorizer_file:\n",
    "    vectorizer = joblib.load(vectorizer_file)\n",
    "\n",
    "nltk.download('stopwords')\n",
    "stop_words = set(stopwords.words('english'))\n",
    "\n",
    "def preprocess_text(text):\n",
    "    text = re.sub(r'[^a-zA-Z]', ' ', text)\n",
    "    text = text.lower()\n",
    "    text = ' '.join([word for word in text.split() if word not in stop_words])\n",
    "    return text\n",
    "\n",
    "@app.route('/')\n",
    "def index():\n",
    "    return render_template('index.html')\n",
    "\n",
    "@app.route('/predict', methods=['POST'])\n",
    "def predict():\n",
    "    try:\n",
    "        input_texts = request.json.get('texts', None)\n",
    "        if not input_texts or not isinstance(input_texts, list):\n",
    "            return jsonify({'error': 'Input must be a list of texts.'}), 400\n",
    "\n",
    "        results = []\n",
    "        for input_text in input_texts:\n",
    "            cleaned_text = preprocess_text(input_text)\n",
    "            vectorized_text = vectorizer.transform([cleaned_text]).toarray()\n",
    "            prediction = model.predict(vectorized_text)[0]\n",
    "            result = \"Fake News\" if prediction == 0 else \"Real News\"\n",
    "            results.append({'input_text': input_text, 'prediction': result})\n",
    "\n",
    "        return jsonify({'results': results})\n",
    "\n",
    "    except Exception as e:\n",
    "        return jsonify({'error': str(e)}), 500\n",
    "\n",
    "# Run the Flask app\n",
    "app.run()\n"
   ]
  }
 ],
 "metadata": {
  "kernelspec": {
   "display_name": "Python 3",
   "language": "python",
   "name": "python3"
  },
  "language_info": {
   "codemirror_mode": {
    "name": "ipython",
    "version": 3
   },
   "file_extension": ".py",
   "mimetype": "text/x-python",
   "name": "python",
   "nbconvert_exporter": "python",
   "pygments_lexer": "ipython3",
   "version": "3.12.0 (tags/v3.12.0:0fb18b0, Oct  2 2023, 13:03:39) [MSC v.1935 64 bit (AMD64)]"
  },
  "orig_nbformat": 4,
  "vscode": {
   "interpreter": {
    "hash": "3fcbd7240ee8f908d933dc7f71e8c42a1a91163b70ede8dcff5146d4087436c7"
   }
  }
 },
 "nbformat": 4,
 "nbformat_minor": 2
}
